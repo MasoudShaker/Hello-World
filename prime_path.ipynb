{
  "cells": [
    {
      "cell_type": "code",
      "execution_count": null,
      "metadata": {
        "id": "IbL2UVupYswU"
      },
      "outputs": [],
      "source": [
        "# !pip install networkx"
      ]
    },
    {
      "cell_type": "code",
      "execution_count": 3,
      "metadata": {
        "id": "be9MTwbvYyt2"
      },
      "outputs": [],
      "source": [
        "import networkx as nx"
      ]
    },
    {
      "cell_type": "code",
      "execution_count": 121,
      "metadata": {
        "colab": {
          "base_uri": "https://localhost:8080/"
        },
        "id": "1NOpmUApbN-G",
        "outputId": "15f46a65-a817-4e88-8798-877acba7f621"
      },
      "outputs": [
        {
          "name": "stdout",
          "output_type": "stream",
          "text": [
            "Enter number of nodes: 7\n",
            "Enter node: 0\n",
            "Enter node: 1\n",
            "Enter node: 2\n",
            "Enter node: 3\n",
            "Enter node: 4\n",
            "Enter node: 5\n",
            "Enter node: 6\n",
            "Enter start node: 0\n",
            "Enter final node: 6\n",
            "Enter edge: 0 1\n",
            "Enter edge: 0 2\n",
            "Enter edge: 1 2 \n",
            "Enter edge: 2 3 \n",
            "Enter edge: 2 4 \n",
            "Enter edge: 3 6\n",
            "Enter edge: 4 5 \n",
            "Enter edge: 4 6 \n",
            "Enter edge: 5 4 \n",
            "Enter edge: \n"
          ]
        }
      ],
      "source": [
        "G = nx.DiGraph()\n",
        "\n",
        "n_nodes = int(input('Enter number of nodes: '))\n",
        "\n",
        "nodes = []\n",
        "\n",
        "for i in range(0, n_nodes):\n",
        "    node = int(input('Enter node: '))\n",
        "    nodes.append(node) \n",
        "\n",
        "start_node = int (input('Enter start node: '))\n",
        "final_node = int (input('Enter final node: '))\n",
        "\n",
        "edges = []\n",
        "\n",
        "while(True):\n",
        "    edge = input('Enter edge: ')\n",
        "    tuple_edge = tuple(int(item) for item in edge.split())\n",
        "    edges.append(tuple_edge)\n",
        "    if edge == '':\n",
        "      edges.pop()\n",
        "      break"
      ]
    },
    {
      "cell_type": "code",
      "execution_count": 122,
      "metadata": {
        "id": "XDqo-T30fI3k"
      },
      "outputs": [],
      "source": [
        "G.add_nodes_from(nodes)\n",
        "G.add_edges_from(edges)"
      ]
    },
    {
      "cell_type": "code",
      "execution_count": 123,
      "metadata": {
        "colab": {
          "base_uri": "https://localhost:8080/",
          "height": 319
        },
        "id": "G6xmPA_sZMP8",
        "outputId": "102fad41-1fb7-4a42-ff70-2ecfbd238aae"
      },
      "outputs": [
        {
          "data": {
            "image/png": "[encoded data removed]",
            "text/plain": [
              "<Figure size 432x288 with 1 Axes>"
            ]
          },
          "metadata": {},
          "output_type": "display_data"
        }
      ],
      "source": [
        "nx.draw(G, with_labels=True)"
      ]
    },
    {
      "cell_type": "code",
      "execution_count": 124,
      "metadata": {
        "colab": {
          "base_uri": "https://localhost:8080/"
        },
        "id": "0Yfkv2Mhiv6S",
        "outputId": "ded9ca24-472a-4a2b-bea0-0ec3c5613dcd"
      },
      "outputs": [
        {
          "name": "stdout",
          "output_type": "stream",
          "text": [
            "[0, 1]\n",
            "[0, 2]\n",
            "[1, 2]\n",
            "[2, 3]\n",
            "[2, 4]\n",
            "[3, 6]\n",
            "[4, 5]\n",
            "[4, 6]\n",
            "[5, 4]\n"
          ]
        }
      ],
      "source": [
        "nodes.remove(final_node)\n",
        "simple_paths = []\n",
        "candidate_prime_paths = []\n",
        "\n",
        "for node in nodes:\n",
        "  neighbors = list(G.neighbors(node))\n",
        "  # print(neighbors)\n",
        "  if len(neighbors) == 0: \n",
        "    continue\n",
        "  \n",
        "  i = len(neighbors)\n",
        "\n",
        "  current_node_paths = []\n",
        "\n",
        "  while(i > 0):\n",
        "      path = [node]\n",
        "      current_node_paths.append(path)\n",
        "      # print(path)\n",
        "      i -= 1\n",
        "\n",
        "  i = 0\n",
        "  for current_node_path in current_node_paths:\n",
        "    path = current_node_path + [neighbors[i]]\n",
        "    print(path)\n",
        "    simple_paths.append(path)\n",
        "    i += 1\n",
        "\n",
        "    last_node = path[-1]\n",
        "    last_node_neighbors = list(G.neighbors(last_node))\n",
        "    if len(last_node_neighbors) == 0: # if it's a final node\n",
        "      candidate_prime_paths.append(path)\n",
        "      simple_paths.remove(path)"
      ]
    },
    {
      "cell_type": "code",
      "execution_count": 125,
      "metadata": {
        "colab": {
          "base_uri": "https://localhost:8080/"
        },
        "id": "PbW-_3tppFsv",
        "outputId": "83969683-444a-4123-b95a-2b21414830cf"
      },
      "outputs": [
        {
          "name": "stdout",
          "output_type": "stream",
          "text": [
            "\n",
            "iteration:  1\n",
            "normal path:  [0, 1, 2]\n",
            "normal path:  [0, 2, 3]\n",
            "normal path:  [0, 2, 4]\n",
            "normal path:  [1, 2, 3]\n",
            "normal path:  [1, 2, 4]\n",
            "final node reached:  [2, 3, 6]\n",
            "normal path:  [2, 4, 5]\n",
            "final node reached:  [2, 4, 6]\n",
            "cyclic path:  [4, 5, 4]\n",
            "cyclic path:  [5, 4, 5]\n",
            "final node reached:  [5, 4, 6]\n",
            "\n",
            "iteration:  2\n",
            "normal path:  [0, 1, 2, 3]\n",
            "normal path:  [0, 1, 2, 4]\n",
            "final node reached:  [0, 2, 3, 6]\n",
            "normal path:  [0, 2, 4, 5]\n",
            "final node reached:  [0, 2, 4, 6]\n",
            "final node reached:  [1, 2, 3, 6]\n",
            "normal path:  [1, 2, 4, 5]\n",
            "final node reached:  [1, 2, 4, 6]\n",
            "cant continue:  [2, 4, 5]\n",
            "\n",
            "iteration:  3\n",
            "final node reached:  [0, 1, 2, 3, 6]\n",
            "normal path:  [0, 1, 2, 4, 5]\n",
            "final node reached:  [0, 1, 2, 4, 6]\n",
            "cant continue:  [0, 2, 4, 5]\n",
            "cant continue:  [1, 2, 4, 5]\n",
            "\n",
            "iteration:  4\n",
            "cant continue:  [0, 1, 2, 4, 5]\n"
          ]
        }
      ],
      "source": [
        "itr = 1\n",
        "while (len(simple_paths) > 0): \n",
        "  all_itr_paths = []\n",
        "  print()\n",
        "  print(\"iteration: \", itr)\n",
        "\n",
        "  for simple_path in simple_paths:\n",
        "    # print(simple_path)\n",
        "    first_node = simple_path[0]\n",
        "    last_node = simple_path[-1]\n",
        "\n",
        "    neighbors = list(G.neighbors(last_node))\n",
        "    # print(neighbors)\n",
        "    \n",
        "    i = len(neighbors)\n",
        "    curr_itr_paths = []\n",
        "\n",
        "    while(i > 0):\n",
        "        curr_itr_paths.append(simple_path)\n",
        "        # print(simple_path)\n",
        "        i -= 1\n",
        "\n",
        "    i = 0\n",
        "    for curr_itr_path in curr_itr_paths:\n",
        "      path = curr_itr_path + [neighbors[i]]\n",
        "      all_itr_paths.append(path)\n",
        "      i += 1\n",
        "      # print(path)\n",
        "      last_node = path[-1]\n",
        "\n",
        "      if (path.count(last_node) == 2):\n",
        "        if (first_node == last_node):\n",
        "          print('cyclic path: ', path)\n",
        "          candidate_prime_paths.append(path)\n",
        "          all_itr_paths.remove(path)\n",
        "        else:\n",
        "          path.pop()\n",
        "          candidate_prime_paths.append(path)\n",
        "          all_itr_paths.remove(path)\n",
        "          print('cant continue: ', path)\n",
        "        \n",
        "      elif (last_node == final_node):\n",
        "        print('final node reached: ', path)\n",
        "        candidate_prime_paths.append(path)\n",
        "      else:\n",
        "        print('normal path: ', path)\n",
        "\n",
        "  simple_paths = all_itr_paths\n",
        "\n",
        "  itr += 1"
      ]
    },
    {
      "cell_type": "code",
      "execution_count": 126,
      "metadata": {
        "colab": {
          "base_uri": "https://localhost:8080/"
        },
        "id": "6O7pxW0GtMGN",
        "outputId": "0602836f-4f44-4a52-d98e-aa0e02f6eeee"
      },
      "outputs": [
        {
          "name": "stdout",
          "output_type": "stream",
          "text": [
            "[3, 6]\n",
            "[4, 6]\n",
            "[2, 3, 6]\n",
            "[2, 4, 6]\n",
            "[4, 5, 4]\n",
            "[5, 4, 5]\n",
            "[5, 4, 6]\n",
            "[0, 2, 3, 6]\n",
            "[0, 2, 4, 6]\n",
            "[1, 2, 3, 6]\n",
            "[1, 2, 4, 6]\n",
            "[2, 4, 5]\n",
            "[0, 1, 2, 3, 6]\n",
            "[0, 1, 2, 4, 6]\n",
            "[0, 2, 4, 5]\n",
            "[1, 2, 4, 5]\n",
            "[0, 1, 2, 4, 5]\n"
          ]
        }
      ],
      "source": [
        "for candidate_prime_path in candidate_prime_paths:\n",
        "  print(candidate_prime_path)"
      ]
    },
    {
      "cell_type": "code",
      "execution_count": 127,
      "metadata": {
        "id": "oyXDxx8I_pSM"
      },
      "outputs": [],
      "source": [
        "max_length = len(candidate_prime_paths[-1])\n",
        "\n",
        "for candidate_prime_path in candidate_prime_paths:\n",
        "  if len(candidate_prime_path) > max_length:\n",
        "    max_length = len(candidate_prime_path)"
      ]
    },
    {
      "cell_type": "code",
      "execution_count": 128,
      "metadata": {
        "id": "UrmnAvYlAOjp"
      },
      "outputs": [],
      "source": [
        "potential_subpaths = []\n",
        "final_prime_paths = []\n",
        "\n",
        "for candidate_prime_path in candidate_prime_paths:\n",
        "  if len(candidate_prime_path) < max_length:\n",
        "    potential_subpaths.append(candidate_prime_path)\n",
        "  else:\n",
        "    final_prime_paths.append(candidate_prime_path)"
      ]
    },
    {
      "cell_type": "code",
      "execution_count": 129,
      "metadata": {
        "colab": {
          "base_uri": "https://localhost:8080/"
        },
        "id": "bT59a2UqAk8E",
        "outputId": "711f0bb9-3ffc-45cc-b02f-50b74606b50e"
      },
      "outputs": [
        {
          "name": "stdout",
          "output_type": "stream",
          "text": [
            "[3, 6]\n",
            "[4, 6]\n",
            "[2, 3, 6]\n",
            "[2, 4, 6]\n",
            "[4, 5, 4]\n",
            "[5, 4, 5]\n",
            "[5, 4, 6]\n",
            "[0, 2, 3, 6]\n",
            "[0, 2, 4, 6]\n",
            "[1, 2, 3, 6]\n",
            "[1, 2, 4, 6]\n",
            "[2, 4, 5]\n",
            "[0, 2, 4, 5]\n",
            "[1, 2, 4, 5]\n"
          ]
        }
      ],
      "source": [
        "for potential_subpath in potential_subpaths:\n",
        "  print(potential_subpath)"
      ]
    },
    {
      "cell_type": "code",
      "execution_count": 130,
      "metadata": {
        "colab": {
          "base_uri": "https://localhost:8080/"
        },
        "id": "Ihls9rCfBUP1",
        "outputId": "8a18ece9-b8f2-4a88-903c-934f5fdb20c7"
      },
      "outputs": [
        {
          "name": "stdout",
          "output_type": "stream",
          "text": [
            "[3, 6] [0, 1, 2, 3, 6]\n",
            "\n",
            "[2, 3, 6] [0, 1, 2, 3, 6]\n",
            "\n",
            "[1, 2, 3, 6] [0, 1, 2, 3, 6]\n",
            "\n",
            "[4, 6] [0, 1, 2, 4, 6]\n",
            "\n",
            "[2, 4, 6] [0, 1, 2, 4, 6]\n",
            "\n",
            "[1, 2, 4, 6] [0, 1, 2, 4, 6]\n",
            "\n",
            "[2, 4, 5] [0, 1, 2, 4, 5]\n",
            "\n",
            "[1, 2, 4, 5] [0, 1, 2, 4, 5]\n",
            "\n"
          ]
        }
      ],
      "source": [
        "determined_subpath = []\n",
        "\n",
        "for final_prime_path in final_prime_paths:\n",
        "  for potential_subpath in potential_subpaths:\n",
        "    for idx in range(len(final_prime_path) - len(potential_subpath) + 1):\n",
        "      if final_prime_path[idx: idx + len(potential_subpath)] == potential_subpath:\n",
        "          print(potential_subpath, final_prime_path)\n",
        "          print()\n",
        "          determined_subpath.append(potential_subpath)\n",
        "          break"
      ]
    },
    {
      "cell_type": "code",
      "execution_count": 131,
      "metadata": {
        "colab": {
          "base_uri": "https://localhost:8080/"
        },
        "id": "OnhqCiZ6Fxya",
        "outputId": "49bb8108-5934-43d4-c461-674e03b279ba"
      },
      "outputs": [
        {
          "data": {
            "text/plain": [
              "[[3, 6],\n",
              " [2, 3, 6],\n",
              " [1, 2, 3, 6],\n",
              " [4, 6],\n",
              " [2, 4, 6],\n",
              " [1, 2, 4, 6],\n",
              " [2, 4, 5],\n",
              " [1, 2, 4, 5]]"
            ]
          },
          "execution_count": 131,
          "metadata": {},
          "output_type": "execute_result"
        }
      ],
      "source": [
        "determined_subpath"
      ]
    },
    {
      "cell_type": "code",
      "execution_count": 132,
      "metadata": {
        "id": "zTT1gOVUApjb"
      },
      "outputs": [],
      "source": [
        "final_prime_paths.clear()\n",
        "\n",
        "for candidate_prime_path in candidate_prime_paths:\n",
        "  if candidate_prime_path not in determined_subpath:\n",
        "    final_prime_paths.append(candidate_prime_path)\n"
      ]
    },
    {
      "cell_type": "code",
      "execution_count": 133,
      "metadata": {
        "colab": {
          "base_uri": "https://localhost:8080/"
        },
        "id": "kcNdWQp7GGhl",
        "outputId": "6b892947-88e4-4e4a-bc6e-44db7415ed11"
      },
      "outputs": [
        {
          "data": {
            "text/plain": [
              "[[4, 5, 4],\n",
              " [5, 4, 5],\n",
              " [5, 4, 6],\n",
              " [0, 2, 3, 6],\n",
              " [0, 2, 4, 6],\n",
              " [0, 1, 2, 3, 6],\n",
              " [0, 1, 2, 4, 6],\n",
              " [0, 2, 4, 5],\n",
              " [0, 1, 2, 4, 5]]"
            ]
          },
          "execution_count": 133,
          "metadata": {},
          "output_type": "execute_result"
        }
      ],
      "source": [
        "final_prime_paths"
      ]
    }
  ],
  "metadata": {
    "colab": {
      "provenance": []
    },
    "gpuClass": "standard",
    "kernelspec": {
      "display_name": "Python 3",
      "language": "python",
      "name": "python3"
    },
    "language_info": {
      "name": "python",
      "version": "3.10.7 (tags/v3.10.7:6cc6b13, Sep  5 2022, 14:08:36) [MSC v.1933 64 bit (AMD64)]"
    },
    "vscode": {
      "interpreter": {
        "hash": "107d7b120a5b68773a87d4067e673630b35702e55ebab3138143d08b1c4d7cbc"
      }
    }
  },
  "nbformat": 4,
  "nbformat_minor": 0
}
